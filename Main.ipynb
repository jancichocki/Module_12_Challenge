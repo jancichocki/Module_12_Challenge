{
 "cells": [
  {
   "cell_type": "code",
   "execution_count": 2,
   "id": "455d7590-8bfa-43d3-a0c1-e43e4ed23b3a",
   "metadata": {
    "tags": []
   },
   "outputs": [
    {
     "name": "stdout",
     "output_type": "stream",
     "text": [
      "Original Data Model Evaluation:\n",
      "Balanced Accuracy Score: 0.9521352751368186\n",
      "Confusion Matrix:\n",
      " [[14926    75]\n",
      " [   46   461]]\n",
      "Classification Report:\n",
      "               precision    recall  f1-score   support\n",
      "\n",
      "           0       1.00      1.00      1.00     15001\n",
      "           1       0.86      0.91      0.88       507\n",
      "\n",
      "    accuracy                           0.99     15508\n",
      "   macro avg       0.93      0.95      0.94     15508\n",
      "weighted avg       0.99      0.99      0.99     15508\n",
      "\n",
      "Resampled Data Model Evaluation:\n",
      "Balanced Accuracy Score: 0.9941749445500477\n",
      "Confusion Matrix:\n",
      " [[14915    86]\n",
      " [    3   504]]\n",
      "Classification Report:\n",
      "               precision    recall  f1-score   support\n",
      "\n",
      "           0       1.00      0.99      1.00     15001\n",
      "           1       0.85      0.99      0.92       507\n",
      "\n",
      "    accuracy                           0.99     15508\n",
      "   macro avg       0.93      0.99      0.96     15508\n",
      "weighted avg       1.00      0.99      0.99     15508\n",
      "\n"
     ]
    }
   ],
   "source": [
    "# Import necessary libraries and modules\n",
    "import numpy as np\n",
    "import pandas as pd\n",
    "from sklearn.model_selection import train_test_split\n",
    "from sklearn.linear_model import LogisticRegression\n",
    "from sklearn.metrics import balanced_accuracy_score, confusion_matrix, classification_report\n",
    "from imblearn.over_sampling import RandomOverSampler\n",
    "import warnings\n",
    "\n",
    "# Suppress warnings for cleaner output\n",
    "warnings.filterwarnings('ignore')\n",
    "\n",
    "# Load the dataset\n",
    "df = pd.read_csv(\"Resources/lending_data.csv\")\n",
    "\n",
    "# Split data into features (X) and target (y)\n",
    "y = df['loan_status']\n",
    "X = df.drop('loan_status', axis=1)\n",
    "\n",
    "# Split dataset into training and testing sets\n",
    "X_train, X_test, y_train, y_test = train_test_split(X, y, test_size=0.2, random_state=1)\n",
    "\n",
    "# Instantiate and train a Logistic Regression model with the original dataset\n",
    "logistic_regression_model = LogisticRegression(random_state=1)\n",
    "logistic_regression_model.fit(X_train, y_train)\n",
    "\n",
    "# Predictions using the original data model\n",
    "y_pred = logistic_regression_model.predict(X_test)\n",
    "\n",
    "# Evaluate the original model's performance\n",
    "print(\"Original Data Model Evaluation:\")\n",
    "print(\"Balanced Accuracy Score:\", balanced_accuracy_score(y_test, y_pred))\n",
    "print(\"Confusion Matrix:\\n\", confusion_matrix(y_test, y_pred))\n",
    "print(\"Classification Report:\\n\", classification_report(y_test, y_pred))\n",
    "\n",
    "# Resample the training data using RandomOverSampler\n",
    "ros = RandomOverSampler(random_state=1)\n",
    "X_resampled, y_resampled = ros.fit_resample(X_train, y_train)\n",
    "\n",
    "# Instantiate and train a Logistic Regression model with the resampled dataset\n",
    "model_resampled = LogisticRegression(random_state=1)\n",
    "model_resampled.fit(X_resampled, y_resampled)\n",
    "\n",
    "# Predictions using the resampled data model\n",
    "y_pred_resampled = model_resampled.predict(X_test)\n",
    "\n",
    "# Evaluate the resampled model's performance\n",
    "print(\"Resampled Data Model Evaluation:\")\n",
    "print(\"Balanced Accuracy Score:\", balanced_accuracy_score(y_test, y_pred_resampled))\n",
    "print(\"Confusion Matrix:\\n\", confusion_matrix(y_test, y_pred_resampled))\n",
    "print(\"Classification Report:\\n\", classification_report(y_test, y_pred_resampled))\n"
   ]
  },
  {
   "cell_type": "code",
   "execution_count": null,
   "id": "21bcc09d-2c61-4631-a495-c0d937b3b40c",
   "metadata": {},
   "outputs": [],
   "source": []
  }
 ],
 "metadata": {
  "kernelspec": {
   "display_name": "Python 3 (ipykernel)",
   "language": "python",
   "name": "python3"
  },
  "language_info": {
   "codemirror_mode": {
    "name": "ipython",
    "version": 3
   },
   "file_extension": ".py",
   "mimetype": "text/x-python",
   "name": "python",
   "nbconvert_exporter": "python",
   "pygments_lexer": "ipython3",
   "version": "3.11.5"
  }
 },
 "nbformat": 4,
 "nbformat_minor": 5
}
